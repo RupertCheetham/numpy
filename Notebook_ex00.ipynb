{
 "cells": [
  {
   "cell_type": "markdown",
   "id": "b91390aa-42a9-48f7-8015-9f44af5cb07a",
   "metadata": {},
   "source": [
    "# H1 TITLE\n",
    "## H2 TITLE\n"
   ]
  },
  {
   "cell_type": "code",
   "execution_count": 1,
   "id": "56ff5bc0-9ee5-473f-89c2-876177c726ba",
   "metadata": {},
   "outputs": [
    {
     "name": "stdout",
     "output_type": "stream",
     "text": [
      "Buy the dip ?\n"
     ]
    }
   ],
   "source": [
    "print(\"Buy the dip ?\")"
   ]
  },
  {
   "cell_type": "code",
   "execution_count": 2,
   "id": "a03b6d35-11e3-4713-9c0b-b2d9440ebe47",
   "metadata": {},
   "outputs": [],
   "source": [
    "import numpy as np\n"
   ]
  },
  {
   "cell_type": "code",
   "execution_count": 3,
   "id": "4c8194b2",
   "metadata": {},
   "outputs": [
    {
     "name": "stdout",
     "output_type": "stream",
     "text": [
      "<class 'int'>\n",
      "<class 'float'>\n",
      "<class 'str'>\n",
      "<class 'dict'>\n",
      "<class 'list'>\n",
      "<class 'tuple'>\n",
      "<class 'set'>\n",
      "<class 'bool'>\n"
     ]
    }
   ],
   "source": [
    "# Exercise 1: Your first NumPy array\n",
    "\n",
    "ex1Array = np.array([1, 3.14, 'Hello', {'key': 'value'}, [1, 2, 3], (4, 5, 6), {7, 8, 9}, True], dtype=object)\n",
    "for i in ex1Array:\n",
    "    print(type(i))\n"
   ]
  },
  {
   "cell_type": "code",
   "execution_count": 17,
   "id": "28decb78-00cc-426b-a75e-2364c05257f2",
   "metadata": {},
   "outputs": [
    {
     "name": "stdout",
     "output_type": "stream",
     "text": [
      "2.1\n",
      "[0. 0. 0. 0. 0. 0. 0. 0. 0. 0. 0. 0. 0. 0. 0. 0. 0. 0. 0. 0. 0. 0. 0. 0.\n",
      " 0. 0. 0. 0. 0. 0. 0. 0. 0. 0. 0. 0. 0. 0. 0. 0. 0. 0. 0. 0. 0. 0. 0. 0.\n",
      " 0. 0. 0. 0. 0. 0. 0. 0. 0. 0. 0. 0. 0. 0. 0. 0. 0. 0. 0. 0. 0. 0. 0. 0.\n",
      " 0. 0. 0. 0. 0. 0. 0. 0. 0. 0. 0. 0. 0. 0. 0. 0. 0. 0. 0. 0. 0. 0. 0. 0.\n",
      " 0. 0. 0. 0. 0. 0. 0. 0. 0. 0. 0. 0. 0. 0. 0. 0. 0. 0. 0. 0. 0. 0. 0. 0.\n",
      " 0. 0. 0. 0. 0. 0. 0. 0. 0. 0. 0. 0. 0. 0. 0. 0. 0. 0. 0. 0. 0. 0. 0. 0.\n",
      " 0. 0. 0. 0. 0. 0. 0. 0. 0. 0. 0. 0. 0. 0. 0. 0. 0. 0. 0. 0. 0. 0. 0. 0.\n",
      " 0. 0. 0. 0. 0. 0. 0. 0. 0. 0. 0. 0. 0. 0. 0. 0. 0. 0. 0. 0. 0. 0. 0. 0.\n",
      " 0. 0. 0. 0. 0. 0. 0. 0. 0. 0. 0. 0. 0. 0. 0. 0. 0. 0. 0. 0. 0. 0. 0. 0.\n",
      " 0. 0. 0. 0. 0. 0. 0. 0. 0. 0. 0. 0. 0. 0. 0. 0. 0. 0. 0. 0. 0. 0. 0. 0.\n",
      " 0. 0. 0. 0. 0. 0. 0. 0. 0. 0. 0. 0. 0. 0. 0. 0. 0. 0. 0. 0. 0. 0. 0. 0.\n",
      " 0. 0. 0. 0. 0. 0. 0. 0. 0. 0. 0. 0. 0. 0. 0. 0. 0. 0. 0. 0. 0. 0. 0. 0.\n",
      " 0. 0. 0. 0. 0. 0. 0. 0. 0. 0. 0. 0.] \n",
      "\n",
      "2.2\n",
      "[[0. 0. 0. 0. 0. 0. 0. 0. 0. 0. 0. 0. 0. 0. 0. 0. 0. 0. 0. 0. 0. 0. 0. 0.\n",
      "  0. 0. 0. 0. 0. 0. 0. 0. 0. 0. 0. 0. 0. 0. 0. 0. 0. 0. 0. 0. 0. 0. 0. 0.\n",
      "  0. 0. 0. 0. 0. 0. 0. 0. 0. 0. 0. 0. 0. 0. 0. 0. 0. 0. 0. 0. 0. 0. 0. 0.\n",
      "  0. 0. 0. 0. 0. 0. 0. 0. 0. 0. 0. 0. 0. 0. 0. 0. 0. 0. 0. 0. 0. 0. 0. 0.\n",
      "  0. 0. 0. 0.]\n",
      " [0. 0. 0. 0. 0. 0. 0. 0. 0. 0. 0. 0. 0. 0. 0. 0. 0. 0. 0. 0. 0. 0. 0. 0.\n",
      "  0. 0. 0. 0. 0. 0. 0. 0. 0. 0. 0. 0. 0. 0. 0. 0. 0. 0. 0. 0. 0. 0. 0. 0.\n",
      "  0. 0. 0. 0. 0. 0. 0. 0. 0. 0. 0. 0. 0. 0. 0. 0. 0. 0. 0. 0. 0. 0. 0. 0.\n",
      "  0. 0. 0. 0. 0. 0. 0. 0. 0. 0. 0. 0. 0. 0. 0. 0. 0. 0. 0. 0. 0. 0. 0. 0.\n",
      "  0. 0. 0. 0.]\n",
      " [0. 0. 0. 0. 0. 0. 0. 0. 0. 0. 0. 0. 0. 0. 0. 0. 0. 0. 0. 0. 0. 0. 0. 0.\n",
      "  0. 0. 0. 0. 0. 0. 0. 0. 0. 0. 0. 0. 0. 0. 0. 0. 0. 0. 0. 0. 0. 0. 0. 0.\n",
      "  0. 0. 0. 0. 0. 0. 0. 0. 0. 0. 0. 0. 0. 0. 0. 0. 0. 0. 0. 0. 0. 0. 0. 0.\n",
      "  0. 0. 0. 0. 0. 0. 0. 0. 0. 0. 0. 0. 0. 0. 0. 0. 0. 0. 0. 0. 0. 0. 0. 0.\n",
      "  0. 0. 0. 0.]]\n"
     ]
    }
   ],
   "source": [
    "# Exercise 2: Zeros\n",
    "zeros_array = np.zeros(300)\n",
    "print(\"2.1\")\n",
    "print(zeros_array, '\\n')\n",
    "print(\"2.2\")\n",
    "reshaped_array = zeros_array.reshape(3, 100)\n",
    "print(reshaped_array)\n",
    "\n"
   ]
  },
  {
   "cell_type": "code",
   "execution_count": 16,
   "id": "b4e8337d-8371-4905-b026-6aa9249aeafd",
   "metadata": {},
   "outputs": [
    {
     "name": "stdout",
     "output_type": "stream",
     "text": [
      "3.1\n",
      "[  1   2   3   4   5   6   7   8   9  10  11  12  13  14  15  16  17  18\n",
      "  19  20  21  22  23  24  25  26  27  28  29  30  31  32  33  34  35  36\n",
      "  37  38  39  40  41  42  43  44  45  46  47  48  49  50  51  52  53  54\n",
      "  55  56  57  58  59  60  61  62  63  64  65  66  67  68  69  70  71  72\n",
      "  73  74  75  76  77  78  79  80  81  82  83  84  85  86  87  88  89  90\n",
      "  91  92  93  94  95  96  97  98  99 100] \n",
      "\n",
      "3.2\n",
      "[ 1  3  5  7  9 11 13 15 17 19 21 23 25 27 29 31 33 35 37 39 41 43 45 47\n",
      " 49 51 53 55 57 59 61 63 65 67 69 71 73 75 77 79 81 83 85 87 89 91 93 95\n",
      " 97 99] \n",
      "\n",
      "3.3\n",
      "[100  98  96  94  92  90  88  86  84  82  80  78  76  74  72  70  68  66\n",
      "  64  62  60  58  56  54  52  50  48  46  44  42  40  38  36  34  32  30\n",
      "  28  26  24  22  20  18  16  14  12  10   8   6   4   2] \n",
      "\n",
      "3.4\n",
      "[  1   0   3   4   0   6   7   0   9  10   0  12  13   0  15  16   0  18\n",
      "  19   0  21  22   0  24  25   0  27  28   0  30  31   0  33  34   0  36\n",
      "  37   0  39  40   0  42  43   0  45  46   0  48  49   0  51  52   0  54\n",
      "  55   0  57  58   0  60  61   0  63  64   0  66  67   0  69  70   0  72\n",
      "  73   0  75  76   0  78  79   0  81  82   0  84  85   0  87  88   0  90\n",
      "  91   0  93  94   0  96  97   0  99 100] \n",
      "\n"
     ]
    }
   ],
   "source": [
    "# Exercise 3: Slicing\n",
    "slice_array = np.arange(1,101)\n",
    "print(\"3.1\")\n",
    "print(slice_array, '\\n')\n",
    "odd_array = slice_array[slice_array % 2 == 1]\n",
    "print(\"3.2\")\n",
    "print(odd_array, '\\n')\n",
    "reverse_even_array = slice_array[slice_array % 2 == 0][::-1]\n",
    "print(\"3.3\")\n",
    "print(reverse_even_array, '\\n')\n",
    "every_third_is_zero_array = slice_array\n",
    "every_third_is_zero_array[1::3] = 0\n",
    "print(\"3.4\")\n",
    "print(every_third_is_zero_array, '\\n')"
   ]
  },
  {
   "cell_type": "code",
   "execution_count": 18,
   "id": "662eb2c4",
   "metadata": {},
   "outputs": [
    {
     "name": "stdout",
     "output_type": "stream",
     "text": [
      "4.1\n",
      "np.random.seed(888) \n",
      "\n",
      "4.2\n",
      "[-1.76200874e-01  1.88876361e-01  8.26747180e-01 -3.24473146e-02\n",
      " -6.52499418e-01 -1.05339382e-01  2.17776116e-01  5.87281504e-01\n",
      "  1.00237892e-01 -1.09994668e+00 -2.55305389e-01  4.05304381e-01\n",
      "  1.62663953e-01  1.04163462e+00  2.24324184e-01  6.99304449e-01\n",
      " -8.65543512e-01 -1.39346831e+00 -2.36687913e-01 -7.57041911e-01\n",
      "  1.31429195e+00 -9.77385899e-01 -3.59032576e-01  1.16141585e-01\n",
      " -3.51081138e-01 -4.39838344e-01 -4.90995473e-02 -4.31596770e-01\n",
      " -1.08875099e+00 -2.31088106e+00 -1.86236420e+00  2.34708674e-01\n",
      " -8.95585921e-01 -5.40834525e-01 -4.02399061e-01  2.31458561e-02\n",
      "  1.77688506e-01 -5.73309272e-01 -3.38392138e-01 -2.64422114e-03\n",
      "  1.44930339e+00  1.36605641e+00  2.69187461e+00  6.76065035e-01\n",
      " -1.06098418e+00  1.31845313e-01  1.71934297e-01  8.88062794e-02\n",
      "  1.03963016e+00 -1.37846942e-01 -3.69232844e-01  3.19587912e+00\n",
      "  1.11457451e+00 -2.59516296e-01  1.48370897e+00 -1.57049065e+00\n",
      "  9.78899330e-01  1.76070681e+00  3.53121953e-01 -3.08510762e-01\n",
      " -1.40481067e+00 -6.54547811e-01 -1.37791290e+00 -2.42605914e-01\n",
      " -1.17542916e+00  6.96400848e-01  2.84105779e-01 -1.01948195e+00\n",
      "  1.09675079e+00  2.41646711e-01 -3.67039678e-01 -2.19894776e+00\n",
      "  1.41872937e+00  2.20794136e-01  7.92524915e-01 -2.23775806e-01\n",
      " -6.96694068e-01 -9.17717925e-01 -1.47199487e+00  1.87770559e+00\n",
      "  1.51033108e+00  1.18732817e-01  6.50728248e-01 -7.07655562e-01\n",
      "  1.69862924e+00  1.34663117e+00  5.26657670e-01 -6.13561456e-01\n",
      " -1.79179012e-01 -1.28634991e+00  1.41675325e+00 -1.81351151e-01\n",
      " -1.02037575e-01 -6.03250569e-01  1.20489600e+00  9.62265746e-01\n",
      "  8.61170433e-01  1.96244237e+00 -1.15548773e+00  3.45259423e-01] \n",
      "\n",
      "4.3\n",
      "[[ 9  8  4  6  9  1  3  2]\n",
      " [ 3  9  9  5  4  7  2  8]\n",
      " [ 5  6  9  1  1  6  8  7]\n",
      " [ 7  1  4  1 10  4  3  5]\n",
      " [ 5 10  1 10  7 10  6  1]\n",
      " [ 6  8  7  4  6 10  3  5]\n",
      " [ 4 10  7  9  9 10  9  9]\n",
      " [ 5  3  2 10  8  5  5  3]] \n",
      "\n",
      "4.4\n",
      "[[[ 5  2 13 16 15]\n",
      "  [ 5  5  2 11  3]]\n",
      "\n",
      " [[ 8 13  6  4 17]\n",
      "  [ 2  8  1 13 10]]\n",
      "\n",
      " [[12 17 17 12  1]\n",
      "  [10  8 17  5 11]]\n",
      "\n",
      " [[ 9 14  2 15 13]\n",
      "  [12 14  6 14  2]]] \n",
      "\n"
     ]
    }
   ],
   "source": [
    "# Exercise 4: Random\n",
    "# setting rng seed\n",
    "np.random.seed(888)\n",
    "print(\"4.1\")\n",
    "print(\"np.random.seed(888)\", \"\\n\")\n",
    "\n",
    "rngArr1 = np.random.randn(100)\n",
    "print(\"4.2\")\n",
    "print(rngArr1, \"\\n\")\n",
    "\n",
    "rngArr2 = np.random.randint(1,11,(8,8))\n",
    "print(\"4.3\")\n",
    "print(rngArr2, \"\\n\")\n",
    "\n",
    "rngArr3 = np.random.randint(1,18,(4,2,5))\n",
    "print(\"4.4\")\n",
    "print(rngArr3, \"\\n\")"
   ]
  },
  {
   "cell_type": "code",
   "execution_count": 23,
   "id": "d09db880",
   "metadata": {},
   "outputs": [
    {
     "name": "stdout",
     "output_type": "stream",
     "text": [
      "[ 1  2  3  4  5  6  7  8  9 10 11 12 13 14 15 16 17 18 19 20 21 22 23 24\n",
      " 25 26 27 28 29 30 31 32 33 34 35 36 37 38 39 40 41 42 43 44 45 46 47 48\n",
      " 49 50] \n",
      "\n",
      "[ 51  52  53  54  55  56  57  58  59  60  61  62  63  64  65  66  67  68\n",
      "  69  70  71  72  73  74  75  76  77  78  79  80  81  82  83  84  85  86\n",
      "  87  88  89  90  91  92  93  94  95  96  97  98  99 100] \n",
      "\n",
      "[  1   2   3   4   5   6   7   8   9  10  11  12  13  14  15  16  17  18\n",
      "  19  20  21  22  23  24  25  26  27  28  29  30  31  32  33  34  35  36\n",
      "  37  38  39  40  41  42  43  44  45  46  47  48  49  50  51  52  53  54\n",
      "  55  56  57  58  59  60  61  62  63  64  65  66  67  68  69  70  71  72\n",
      "  73  74  75  76  77  78  79  80  81  82  83  84  85  86  87  88  89  90\n",
      "  91  92  93  94  95  96  97  98  99 100] \n",
      "\n",
      "[[  1   2   3   4   5   6   7   8   9  10]\n",
      " [ 11  12  13  14  15  16  17  18  19  20]\n",
      " [ 21  22  23  24  25  26  27  28  29  30]\n",
      " [ 31  32  33  34  35  36  37  38  39  40]\n",
      " [ 41  42  43  44  45  46  47  48  49  50]\n",
      " [ 51  52  53  54  55  56  57  58  59  60]\n",
      " [ 61  62  63  64  65  66  67  68  69  70]\n",
      " [ 71  72  73  74  75  76  77  78  79  80]\n",
      " [ 81  82  83  84  85  86  87  88  89  90]\n",
      " [ 91  92  93  94  95  96  97  98  99 100]] \n",
      "\n"
     ]
    }
   ],
   "source": [
    "# Exercise 5: Split, concatenate, reshape arrays\n",
    "\n",
    "ex5ArrayLow = np.arange(1, 51)\n",
    "print(ex5ArrayLow, \"\\n\")\n",
    "ex5ArrayHigh = np.arange(51, 101)\n",
    "print(ex5ArrayHigh, \"\\n\")\n",
    "exConcatenate = np.concatenate((ex5ArrayLow, ex5ArrayHigh))\n",
    "print(exConcatenate, \"\\n\")\n",
    "exReshape = np.reshape(exConcatenate, (10,10))\n",
    "print(exReshape, \"\\n\")\n"
   ]
  },
  {
   "cell_type": "code",
   "execution_count": 24,
   "id": "d1befe97",
   "metadata": {},
   "outputs": [
    {
     "name": "stdout",
     "output_type": "stream",
     "text": [
      "[[1 1 1 1 1 1 1 1 1]\n",
      " [1 1 1 1 1 1 1 1 1]\n",
      " [1 1 1 1 1 1 1 1 1]\n",
      " [1 1 1 1 1 1 1 1 1]\n",
      " [1 1 1 1 1 1 1 1 1]\n",
      " [1 1 1 1 1 1 1 1 1]\n",
      " [1 1 1 1 1 1 1 1 1]\n",
      " [1 1 1 1 1 1 1 1 1]\n",
      " [1 1 1 1 1 1 1 1 1]] \n",
      "\n",
      "[[1 1 1 1 1 1 1 1 1]\n",
      " [1 0 0 0 0 0 0 0 1]\n",
      " [1 0 1 1 1 1 1 0 1]\n",
      " [1 0 0 0 1 0 0 0 1]\n",
      " [1 0 1 0 1 0 1 0 1]\n",
      " [1 0 0 0 1 0 0 0 1]\n",
      " [1 0 1 1 1 1 1 0 1]\n",
      " [1 0 0 0 0 0 0 0 1]\n",
      " [1 1 1 1 1 1 1 1 1]] \n",
      "\n",
      "[[ 1  2  3]\n",
      " [ 2  4  6]\n",
      " [ 3  6  9]\n",
      " [ 4  8 12]\n",
      " [ 5 10 15]] \n",
      "\n"
     ]
    }
   ],
   "source": [
    "# Exercise 6: Broadcasting and Slicing\n",
    "\n",
    "# 6.1\n",
    "ex6Array2d = np.ones((9, 9), dtype=np.int8)\n",
    "print(ex6Array2d, \"\\n\")\n",
    "# 6.2\n",
    "ex6Array2d[1:-1, 1:-1] = 0\n",
    "ex6Array2d[2, 2:7] = 1\n",
    "ex6Array2d[3:6, 4] = 1\n",
    "ex6Array2d[4, 2:8:2] = 1\n",
    "ex6Array2d[6, 2:7] = 1\n",
    "print(ex6Array2d, \"\\n\")\n",
    "# 6.3\n",
    "array_1 = np.array([1,2,3,4,5], dtype=np.int8)\n",
    "array_2 = np.array([1,2,3], dtype=np.int8)\n",
    "np.reshape(array_1, (5, 1)) * array_2\n",
    "print(np.reshape(array_1, (5, 1)) * array_2)\n"
   ]
  },
  {
   "cell_type": "code",
   "execution_count": 9,
   "id": "ffa48428",
   "metadata": {},
   "outputs": [
    {
     "name": "stdout",
     "output_type": "stream",
     "text": [
      "[[ 7.  1.  7.]\n",
      " [nan  2.  2.]\n",
      " [nan  8.  8.]\n",
      " [ 9.  3.  9.]\n",
      " [ 8.  9.  8.]\n",
      " [nan  2.  2.]\n",
      " [ 8.  2.  8.]\n",
      " [nan  6.  6.]\n",
      " [ 9.  2.  9.]\n",
      " [ 8.  5.  8.]]\n"
     ]
    }
   ],
   "source": [
    "# Exercise 7: NaN\n",
    "\n",
    "\n",
    "generator = np.random.default_rng(123)\n",
    "grades = np.round(generator.uniform(low = 0.0, high = 10.0, size = (10, 2)))\n",
    "grades[[1,2,5,7], [0,0,0,0]] = np.nan\n",
    "# print(grades)\n",
    "\n",
    "gradesWhere = np.where(np.isnan(grades[:, 0]), grades[:, 1], grades[:, 0])\n",
    "# print(gradesWhere)\n",
    "gradesInsert = np.insert(arr = grades, values = gradesWhere, axis = 1, obj = 2)\n",
    "print(gradesInsert)\n",
    "\n",
    "\n"
   ]
  },
  {
   "cell_type": "code",
   "execution_count": 10,
   "id": "1c0a966d",
   "metadata": {},
   "outputs": [
    {
     "name": "stdout",
     "output_type": "stream",
     "text": [
      "Memory Usage: 76752 bytes\n",
      "Selected Rows:\n",
      "[[7.800e+00 8.800e-01 0.000e+00 2.600e+00 9.800e-02 2.500e+01 6.700e+01\n",
      "  9.968e-01 3.200e+00 6.800e-01 9.800e+00 5.000e+00]\n",
      " [7.900e+00 6.000e-01 6.000e-02 1.600e+00 6.900e-02 1.500e+01 5.900e+01\n",
      "  9.964e-01 3.300e+00 4.600e-01 9.400e+00 5.000e+00]\n",
      " [7.500e+00 5.000e-01 3.600e-01 6.100e+00 7.100e-02 1.700e+01 1.020e+02\n",
      "  9.978e-01 3.350e+00 8.000e-01 1.050e+01 5.000e+00]]\n",
      "Any wine with alcohol > 20%: False\n",
      "Average % of alcohol: 10.42298412322998\n",
      "pH Statistics:\n",
      "Minimum: 2.740000009536743\n",
      "Maximum: 4.010000228881836\n",
      "25th Percentile: 3.2100000381469727\n",
      "50th Percentile (Median): 3.309999942779541\n",
      "75th Percentile: 3.4000000953674316\n",
      "Mean: 3.3111133575439453\n",
      "Average quality of wines with 20% least sulphates: 5.5929646492004395\n",
      "Mean of all variables for the best quality wine:\n",
      "7.532942\n",
      "Mean of all variables for the worst quality wine:\n",
      "7.411234\n"
     ]
    }
   ],
   "source": [
    "# Exercise 8: Wine\n",
    "\n",
    "# Load the data using genfromtxt and optimize types\n",
    "url = \"https://archive.ics.uci.edu/ml/machine-learning-databases/wine-quality/winequality-red.csv\"\n",
    "data = np.genfromtxt(url, delimiter=';', skip_header=1, dtype=np.float32)\n",
    "\n",
    "# Check memory usage\n",
    "print(f\"Memory Usage: {data.nbytes} bytes\")\n",
    "\n",
    "# Print 2nd, 7th, and 12th rows\n",
    "selected_rows = data[[1, 6, 11], :]\n",
    "print(\"Selected Rows:\")\n",
    "print(selected_rows)\n",
    "\n",
    "# Check if any wine has alcohol percentage greater than 20%\n",
    "has_high_alcohol = np.any(data[:, 10] > 20)\n",
    "print(f\"Any wine with alcohol > 20%: {has_high_alcohol}\")\n",
    "\n",
    "# Compute average % of alcohol, dropping NaN values\n",
    "average_alcohol = np.nanmean(data[:, 10])\n",
    "print(f\"Average % of alcohol: {average_alcohol}\")\n",
    "\n",
    "# Compute statistics for pH\n",
    "ph_stats = {\n",
    "    'Minimum': np.min(data[:, 8]),\n",
    "    'Maximum': np.max(data[:, 8]),\n",
    "    '25th Percentile': np.percentile(data[:, 8], 25),\n",
    "    '50th Percentile (Median)': np.median(data[:, 8]),\n",
    "    '75th Percentile': np.percentile(data[:, 8], 75),\n",
    "    'Mean': np.mean(data[:, 8])\n",
    "}\n",
    "print(\"pH Statistics:\")\n",
    "for key, value in ph_stats.items():\n",
    "    print(f\"{key}: {value}\")\n",
    "\n",
    "# Compute average quality of wines with the 20% least sulphates\n",
    "percentile_20 = np.percentile(data[:, 5], 20)\n",
    "average_quality_20 = np.mean(data[data[:, 5] < percentile_20, 11])\n",
    "print(f\"Average quality of wines with 20% least sulphates: {average_quality_20}\")\n",
    "\n",
    "# Identify best and worst quality wines\n",
    "best_quality = np.argmax(data[:, 11])\n",
    "worst_quality = np.argmin(data[:, 11])\n",
    "\n",
    "# Compute mean of all variables for wines with the best quality\n",
    "mean_best_quality = np.mean(data[best_quality, :])\n",
    "\n",
    "# Compute mean of all variables for wines with the worst quality\n",
    "mean_worst_quality = np.mean(data[worst_quality, :])\n",
    "\n",
    "print(\"Mean of all variables for the best quality wine:\")\n",
    "print(mean_best_quality)\n",
    "\n",
    "print(\"Mean of all variables for the worst quality wine:\")\n",
    "print(mean_worst_quality)"
   ]
  },
  {
   "cell_type": "code",
   "execution_count": 11,
   "id": "b82caa52",
   "metadata": {},
   "outputs": [
    {
     "name": "stdout",
     "output_type": "stream",
     "text": [
      "All data:\n",
      "[[   nan    nan    nan ...    nan    nan    nan]\n",
      " [ 7.4    0.7    0.    ...  0.56   9.4    5.   ]\n",
      " [ 7.8    0.88   0.    ...  0.68   9.8    5.   ]\n",
      " ...\n",
      " [ 6.3    0.51   0.13  ...  0.75  11.     6.   ]\n",
      " [ 5.9    0.645  0.12  ...  0.71  10.2    5.   ]\n",
      " [ 6.     0.31   0.47  ...  0.66  11.     6.   ]]\n",
      "Data weight: 76800 bytes\n",
      "Lines 2, 7 and 12:\n",
      "[[ 7.4     0.7     0.      1.9     0.076  11.     34.      0.9978  3.51\n",
      "   0.56    9.4     5.    ]\n",
      " [11.2     0.28    0.56    1.9     0.075  17.     60.      0.998   3.16\n",
      "   0.58    9.8     6.    ]\n",
      " [ 7.9     0.6     0.06    1.6     0.069  15.     59.      0.9964  3.3\n",
      "   0.46    9.4     5.    ]]\n",
      "Any wine with alcohol > 20%:  False\n",
      "minimum:  2.74\n",
      "maximum:  4.01\n",
      "25th Percentile:  3.21\n",
      "50th Percentile:  3.31\n",
      "75th Percentile:  3.4\n",
      "Average quality of wines with at least 20pc sulphates: 10.332977\n"
     ]
    }
   ],
   "source": [
    "# Exercise 8: Wine; practice data\n",
    "\n",
    "# Load the data using genfromtxt and optimize types\n",
    "url = \"https://archive.ics.uci.edu/ml/machine-learning-databases/wine-quality/winequality-red.csv\"\n",
    "data = np.genfromtxt(url, delimiter=';', dtype=np.float32)\n",
    "print(\"All data:\")\n",
    "print(data)\n",
    "\n",
    "# Check that the numpy array weights **76800 bytes**.\n",
    "array_size_bytes = data.nbytes\n",
    "print(\"Data weight:\", array_size_bytes, \"bytes\")\n",
    "# Print 2nd, 7th and 12th rows as a two dimensional array\n",
    "selected_rows = data[[1, 4, 7], :]\n",
    "print(\"Lines 2, 7 and 12:\")\n",
    "print(selected_rows)\n",
    "# Is there any wine with a percentage of alcohol greater than 20% ?\n",
    "has_high_alcohol = np.any(data[:, 10] > 20)\n",
    "print(\"Any wine with alcohol > 20%: \", has_high_alcohol)\n",
    "# Compute the minimum, the maximum, the 25th percentile, the 50th percentile, the 75th percentile, the mean of the pH\n",
    "# data line 0 is the headers, so is not a number; excluding it lets us find the min in the rest of the data\n",
    "minimum =  np.min(data[1:, 8])\n",
    "print(\"minimum: \", minimum)\n",
    "maximum =  np.max(data[1:, 8])\n",
    "print(\"maximum: \", maximum)\n",
    "Perc25 = np.percentile(data[1:, 8], 25)\n",
    "print(\"25th Percentile: \", round(Perc25, 3))\n",
    "Perc50 = np.percentile(data[1:, 8], 50)\n",
    "print(\"50th Percentile: \", round(Perc50, 3))\n",
    "Perc75 = np.percentile(data[1:, 8], 75)\n",
    "print(\"75th Percentile: \", round(Perc75, 3))\n",
    "# Compute the average quality of the wines having the 20% least sulphates\n",
    "data_without_header = data[1:, :]\n",
    "sulphates_data = data_without_header[:, 5]\n",
    "selected_rows = data_without_header[sulphates_data >= 20, :]\n",
    "quality_values = selected_rows[:, -2]\n",
    "average_quality = np.mean(quality_values)\n",
    "\n",
    "print(\"Average quality of wines with at least 20pc sulphates:\", average_quality)\n",
    "# This is wildly wrong, need to redo\n"
   ]
  },
  {
   "cell_type": "code",
   "execution_count": 12,
   "id": "aa47aa7d",
   "metadata": {},
   "outputs": [
    {
     "name": "stdout",
     "output_type": "stream",
     "text": [
      "Pairs that will give the most interesting matches:\n",
      "None\n"
     ]
    }
   ],
   "source": [
    "from itertools import permutations\n",
    "\n",
    "# Load the model forecasts from the file\n",
    "model_forecasts = np.genfromtxt('model_forecasts.txt', delimiter=',', filling_values=np.nan)\n",
    "\n",
    "# Get the number of teams\n",
    "num_teams = len(model_forecasts)\n",
    "\n",
    "# Generate all possible permutations of teams\n",
    "team_permutations = list(permutations(range(num_teams), 2))\n",
    "\n",
    "# Initialize variables to keep track of the minimum sum of squared differences and corresponding pair\n",
    "min_sum_squares = float('inf')\n",
    "min_pair = None\n",
    "\n",
    "# Iterate through all team permutations\n",
    "for pair in team_permutations:\n",
    "    team1, team2 = pair\n",
    "    # Calculate the sum of squared differences for the current pair\n",
    "    sum_squares = np.sum((model_forecasts[:, team1] - model_forecasts[:, team2])**2)\n",
    "    \n",
    "    # Update minimum sum and corresponding pair if the current pair has a lower sum\n",
    "    if sum_squares < min_sum_squares:\n",
    "        min_sum_squares = sum_squares\n",
    "        min_pair = pair\n",
    "\n",
    "print(\"Pairs that will give the most interesting matches:\")\n",
    "print(min_pair)\n"
   ]
  },
  {
   "cell_type": "code",
   "execution_count": null,
   "id": "7777ffa3",
   "metadata": {},
   "outputs": [],
   "source": []
  }
 ],
 "metadata": {
  "kernelspec": {
   "display_name": ".venv",
   "language": "python",
   "name": "python3"
  },
  "language_info": {
   "codemirror_mode": {
    "name": "ipython",
    "version": 3
   },
   "file_extension": ".py",
   "mimetype": "text/x-python",
   "name": "python",
   "nbconvert_exporter": "python",
   "pygments_lexer": "ipython3",
   "version": "3.12.3"
  }
 },
 "nbformat": 4,
 "nbformat_minor": 5
}
