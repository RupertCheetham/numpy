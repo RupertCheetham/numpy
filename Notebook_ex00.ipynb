{
 "cells": [
  {
   "cell_type": "markdown",
   "id": "b91390aa-42a9-48f7-8015-9f44af5cb07a",
   "metadata": {},
   "source": [
    "# H1 TITLE\n",
    "## H2 TITLE\n"
   ]
  },
  {
   "cell_type": "code",
   "execution_count": 3,
   "id": "56ff5bc0-9ee5-473f-89c2-876177c726ba",
   "metadata": {},
   "outputs": [
    {
     "name": "stdout",
     "output_type": "stream",
     "text": [
      "Buy the dip ?\n"
     ]
    }
   ],
   "source": [
    "print(\"Buy the dip ?\")"
   ]
  },
  {
   "cell_type": "code",
   "execution_count": 4,
   "id": "a03b6d35-11e3-4713-9c0b-b2d9440ebe47",
   "metadata": {},
   "outputs": [],
   "source": [
    "import numpy as np\n"
   ]
  },
  {
   "cell_type": "code",
   "execution_count": 51,
   "id": "4c8194b2",
   "metadata": {},
   "outputs": [
    {
     "name": "stdout",
     "output_type": "stream",
     "text": [
      "<class 'int'>\n",
      "<class 'float'>\n",
      "<class 'str'>\n",
      "<class 'dict'>\n",
      "<class 'list'>\n",
      "<class 'tuple'>\n",
      "<class 'set'>\n",
      "<class 'bool'>\n"
     ]
    }
   ],
   "source": [
    "# Exercise 1\n",
    "\n",
    "firstArray = np.array([1, 3.14, 'Hello', {'key': 'value'}, [1, 2, 3], (4, 5, 6), {7, 8, 9}, True], dtype=object)\n",
    "for i in firstArray:\n",
    "    print(type(i))\n"
   ]
  },
  {
   "cell_type": "code",
   "execution_count": null,
   "id": "28decb78-00cc-426b-a75e-2364c05257f2",
   "metadata": {},
   "outputs": [
    {
     "name": "stdout",
     "output_type": "stream",
     "text": [
      "[[0. 0. 0. 0. 0. 0. 0. 0. 0. 0. 0. 0. 0. 0. 0. 0. 0. 0. 0. 0. 0. 0. 0. 0.\n",
      "  0. 0. 0. 0. 0. 0. 0. 0. 0. 0. 0. 0. 0. 0. 0. 0. 0. 0. 0. 0. 0. 0. 0. 0.\n",
      "  0. 0. 0. 0. 0. 0. 0. 0. 0. 0. 0. 0. 0. 0. 0. 0. 0. 0. 0. 0. 0. 0. 0. 0.\n",
      "  0. 0. 0. 0. 0. 0. 0. 0. 0. 0. 0. 0. 0. 0. 0. 0. 0. 0. 0. 0. 0. 0. 0. 0.\n",
      "  0. 0. 0. 0.]\n",
      " [0. 0. 0. 0. 0. 0. 0. 0. 0. 0. 0. 0. 0. 0. 0. 0. 0. 0. 0. 0. 0. 0. 0. 0.\n",
      "  0. 0. 0. 0. 0. 0. 0. 0. 0. 0. 0. 0. 0. 0. 0. 0. 0. 0. 0. 0. 0. 0. 0. 0.\n",
      "  0. 0. 0. 0. 0. 0. 0. 0. 0. 0. 0. 0. 0. 0. 0. 0. 0. 0. 0. 0. 0. 0. 0. 0.\n",
      "  0. 0. 0. 0. 0. 0. 0. 0. 0. 0. 0. 0. 0. 0. 0. 0. 0. 0. 0. 0. 0. 0. 0. 0.\n",
      "  0. 0. 0. 0.]\n",
      " [0. 0. 0. 0. 0. 0. 0. 0. 0. 0. 0. 0. 0. 0. 0. 0. 0. 0. 0. 0. 0. 0. 0. 0.\n",
      "  0. 0. 0. 0. 0. 0. 0. 0. 0. 0. 0. 0. 0. 0. 0. 0. 0. 0. 0. 0. 0. 0. 0. 0.\n",
      "  0. 0. 0. 0. 0. 0. 0. 0. 0. 0. 0. 0. 0. 0. 0. 0. 0. 0. 0. 0. 0. 0. 0. 0.\n",
      "  0. 0. 0. 0. 0. 0. 0. 0. 0. 0. 0. 0. 0. 0. 0. 0. 0. 0. 0. 0. 0. 0. 0. 0.\n",
      "  0. 0. 0. 0.]]\n"
     ]
    }
   ],
   "source": [
    "# Exercise 2\n",
    "zeros_array = np.zeros(300)\n",
    "\n",
    "reshaped_array = zeros_array.reshape(3, 100)\n",
    "\n",
    "print(reshaped_array)\n",
    "\n"
   ]
  },
  {
   "cell_type": "code",
   "execution_count": 53,
   "id": "b4e8337d-8371-4905-b026-6aa9249aeafd",
   "metadata": {},
   "outputs": [
    {
     "name": "stdout",
     "output_type": "stream",
     "text": [
      "[  1   2   3   4   5   6   7   8   9  10  11  12  13  14  15  16  17  18\n",
      "  19  20  21  22  23  24  25  26  27  28  29  30  31  32  33  34  35  36\n",
      "  37  38  39  40  41  42  43  44  45  46  47  48  49  50  51  52  53  54\n",
      "  55  56  57  58  59  60  61  62  63  64  65  66  67  68  69  70  71  72\n",
      "  73  74  75  76  77  78  79  80  81  82  83  84  85  86  87  88  89  90\n",
      "  91  92  93  94  95  96  97  98  99 100]\n",
      "[ 1  3  5  7  9 11 13 15 17 19 21 23 25 27 29 31 33 35 37 39 41 43 45 47\n",
      " 49 51 53 55 57 59 61 63 65 67 69 71 73 75 77 79 81 83 85 87 89 91 93 95\n",
      " 97 99]\n",
      "[100  98  96  94  92  90  88  86  84  82  80  78  76  74  72  70  68  66\n",
      "  64  62  60  58  56  54  52  50  48  46  44  42  40  38  36  34  32  30\n",
      "  28  26  24  22  20  18  16  14  12  10   8   6   4   2]\n",
      "[  1   0   3   4   0   6   7   0   9  10   0  12  13   0  15  16   0  18\n",
      "  19   0  21  22   0  24  25   0  27  28   0  30  31   0  33  34   0  36\n",
      "  37   0  39  40   0  42  43   0  45  46   0  48  49   0  51  52   0  54\n",
      "  55   0  57  58   0  60  61   0  63  64   0  66  67   0  69  70   0  72\n",
      "  73   0  75  76   0  78  79   0  81  82   0  84  85   0  87  88   0  90\n",
      "  91   0  93  94   0  96  97   0  99 100]\n"
     ]
    }
   ],
   "source": [
    "# Exercise 3\n",
    "slice_array = np.arange(1,101)\n",
    "print(slice_array)\n",
    "odd_array = slice_array[slice_array % 2 == 1]\n",
    "print(odd_array)\n",
    "reverse_even_array = slice_array[slice_array % 2 == 0][::-1]\n",
    "print(reverse_even_array)\n",
    "every_third_is_zero_array = slice_array\n",
    "every_third_is_zero_array[1::3] = 0\n",
    "print(every_third_is_zero_array)"
   ]
  },
  {
   "cell_type": "code",
   "execution_count": 74,
   "id": "662eb2c4",
   "metadata": {},
   "outputs": [
    {
     "name": "stdout",
     "output_type": "stream",
     "text": [
      "[[ 7  4  8 10  2  1  1 10]\n",
      " [ 4  1  7  4  3  5  2  8]\n",
      " [ 3  9  7  4  9  6 10  5]\n",
      " [ 7 10  3 10  2  1  3  7]\n",
      " [ 3  2  3  2 10  9  5  4]\n",
      " [ 4  1  9  7  1  4  3  5]\n",
      " [ 3  2 10  8  6  3  9  4]\n",
      " [ 4  4  9  2  8  5  9  5]]\n",
      "[[[14 16  8 15 14]\n",
      "  [17 13  1  4 17]]\n",
      "\n",
      " [[ 7 15  2  8  3]\n",
      "  [ 9  4 13  9 15]]\n",
      "\n",
      " [[ 5 11 11 14 10]\n",
      "  [ 2  1 15  3  3]]\n",
      "\n",
      " [[ 3 10  5 16 13]\n",
      "  [17 12  9  7 16]]]\n"
     ]
    }
   ],
   "source": [
    "# Exercise 4\n",
    "rng = np.random.seed(888)\n",
    "# print(rng)\n",
    "rngArr1 = np.random.randn(100)\n",
    "# print(rngArr1)\n",
    "\n",
    "np.random.seed(888)\n",
    "rngArr2 = np.random.randint(1,11,(8,8))\n",
    "print(rngArr2)\n",
    "\n",
    "np.random.seed(888)\n",
    "rngArr3 = np.random.randint(1,18,(4,2,5))\n",
    "print(rngArr3)"
   ]
  },
  {
   "cell_type": "code",
   "execution_count": 80,
   "id": "d09db880",
   "metadata": {},
   "outputs": [
    {
     "name": "stdout",
     "output_type": "stream",
     "text": [
      "[[  1   2   3   4   5   6   7   8   9  10]\n",
      " [ 11  12  13  14  15  16  17  18  19  20]\n",
      " [ 21  22  23  24  25  26  27  28  29  30]\n",
      " [ 31  32  33  34  35  36  37  38  39  40]\n",
      " [ 41  42  43  44  45  46  47  48  49  50]\n",
      " [ 51  52  53  54  55  56  57  58  59  60]\n",
      " [ 61  62  63  64  65  66  67  68  69  70]\n",
      " [ 71  72  73  74  75  76  77  78  79  80]\n",
      " [ 81  82  83  84  85  86  87  88  89  90]\n",
      " [ 91  92  93  94  95  96  97  98  99 100]]\n"
     ]
    }
   ],
   "source": [
    "# Exercise 5\n",
    "\n",
    "ex5ArrayLow = np.arange(1, 51)\n",
    "ex5ArrayHigh = np.arange(51, 101)\n",
    "exConcatenate = np.concatenate((ex5ArrayLow, ex5ArrayHigh))\n",
    "# print(exConcatenate)\n",
    "exReshape = np.reshape(exConcatenate, (10,10))\n",
    "# print(exReshape)\n"
   ]
  },
  {
   "cell_type": "code",
   "execution_count": 85,
   "id": "d1befe97",
   "metadata": {},
   "outputs": [
    {
     "name": "stdout",
     "output_type": "stream",
     "text": [
      "[[ 1  2  3]\n",
      " [ 2  4  6]\n",
      " [ 3  6  9]\n",
      " [ 4  8 12]\n",
      " [ 5 10 15]]\n"
     ]
    }
   ],
   "source": [
    "# Exercise 6\n",
    "\n",
    "# 6.1\n",
    "ex6Array2d = np.ones((9, 9), dtype=np.int8)\n",
    "# print(ex6Array2d)\n",
    "# 6.2\n",
    "ex6Array2d[1:-1, 1:-1] = 0\n",
    "ex6Array2d[2, 2:7] = 1\n",
    "ex6Array2d[3:6, 4] = 1\n",
    "ex6Array2d[4, 2:8:2] = 1\n",
    "ex6Array2d[6, 2:7] = 1\n",
    "# print(ex6Array2d)\n",
    "# 6.3\n",
    "array_1 = np.array([1,2,3,4,5], dtype=np.int8)\n",
    "array_2 = np.array([1,2,3], dtype=np.int8)\n",
    "np.reshape(array_1, (5, 1)) * array_2\n",
    "print(np.reshape(array_1, (5, 1)) * array_2)\n"
   ]
  },
  {
   "cell_type": "code",
   "execution_count": 98,
   "id": "ffa48428",
   "metadata": {},
   "outputs": [
    {
     "name": "stdout",
     "output_type": "stream",
     "text": [
      "[[ 7.  1.  7.]\n",
      " [nan  2.  2.]\n",
      " [nan  8.  8.]\n",
      " [ 9.  3.  9.]\n",
      " [ 8.  9.  8.]\n",
      " [nan  2.  2.]\n",
      " [ 8.  2.  8.]\n",
      " [nan  6.  6.]\n",
      " [ 9.  2.  9.]\n",
      " [ 8.  5.  8.]]\n"
     ]
    }
   ],
   "source": [
    "# Exercise 7\n",
    "# Exercise 7\n",
    "generator = np.random.default_rng(123)\n",
    "grades = np.round(generator.uniform(low=0.0, high=10.0, size=(10, 2)))\n",
    "grades[[1, 2, 5, 7], [0, 0, 0, 0]] = np.nan\n",
    "\n",
    "gradesWhere = np.where(np.isnan(grades[:, 0]), grades[:, 1], grades[:, 0])\n",
    "\n",
    "new_vector = np.array([1, 2, 3, 4, 5, 6, 7, 8, 9, 10])\n",
    "\n",
    "# Corrected usage of np.hstack to concatenate along the horizontal axis (axis=1)\n",
    "gradesHStack = np.hstack((grades, new_vector[:, None]))\n",
    "\n",
    "print(gradesHStack)\n",
    "\n",
    "\n",
    "\n"
   ]
  }
 ],
 "metadata": {
  "kernelspec": {
   "display_name": "Python 3 (ipykernel)",
   "language": "python",
   "name": "python3"
  },
  "language_info": {
   "codemirror_mode": {
    "name": "ipython",
    "version": 3
   },
   "file_extension": ".py",
   "mimetype": "text/x-python",
   "name": "python",
   "nbconvert_exporter": "python",
   "pygments_lexer": "ipython3",
   "version": "3.10.12"
  }
 },
 "nbformat": 4,
 "nbformat_minor": 5
}
